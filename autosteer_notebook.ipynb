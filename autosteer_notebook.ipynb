{
 "cells": [
  {
   "cell_type": "code",
   "execution_count": 45,
   "id": "82198dfe",
   "metadata": {
    "ExecuteTime": {
     "end_time": "2022-10-21T15:40:37.273957Z",
     "start_time": "2022-10-21T15:40:37.261959Z"
    }
   },
   "outputs": [],
   "source": [
    "import cv2\n",
    "import numpy as np"
   ]
  },
  {
   "cell_type": "code",
   "execution_count": 191,
   "id": "edc2e826",
   "metadata": {
    "ExecuteTime": {
     "end_time": "2022-10-21T16:22:11.622729Z",
     "start_time": "2022-10-21T16:22:10.436944Z"
    }
   },
   "outputs": [],
   "source": [
    "img = cv2.imread(\"./screenshots/fsScreen_2022_10_21_14_00_24.png\")\n",
    "img = cv2.resize(img, (1280, 720))\n",
    "cv2.imshow('image',img)\n",
    "cv2.waitKey()\n",
    "cv2.destroyAllWindows()"
   ]
  },
  {
   "cell_type": "code",
   "execution_count": 208,
   "id": "cb8915a6",
   "metadata": {
    "ExecuteTime": {
     "end_time": "2022-10-21T16:24:02.545474Z",
     "start_time": "2022-10-21T16:24:00.557980Z"
    }
   },
   "outputs": [],
   "source": [
    "def roi(img, vertices):\n",
    "    mask = np.zeros_like(img)\n",
    "    cv2.fillPoly(mask,vertices,255)\n",
    "    masked = cv2.bitwise_and(img, mask)\n",
    "    return masked\n",
    "\n",
    "img_gray = cv2.cvtColor(img,cv2.COLOR_BGR2GRAY)\n",
    "kernel_size = 5\n",
    "blur_gray = cv2.GaussianBlur(img_gray,(kernel_size, kernel_size),0)\n",
    "cv2.imshow('image',blur_gray)\n",
    "cv2.waitKey()\n",
    "cv2.destroyAllWindows()\n",
    "low_threshold = 80\n",
    "high_threshold = 265\n",
    "edges = cv2.Canny(blur_gray, low_threshold, high_threshold)\n",
    "#roi_vertices = vertices = np.array([[0,500],[10,300], [300,200], [500,200], [800,300], [800,500]], np.int32)\n",
    "roi_vertices = np.array([[340,700],[340,300], [250,80], [530,80], [880,300], [880,700]], np.int32)\n",
    "processed_img = roi(edges, [roi_vertices])\n",
    "\n",
    "cv2.imshow('image',processed_img)\n",
    "cv2.waitKey()\n",
    "cv2.destroyAllWindows()"
   ]
  },
  {
   "cell_type": "code",
   "execution_count": null,
   "id": "4e8a74e8",
   "metadata": {
    "ExecuteTime": {
     "start_time": "2022-10-21T16:25:26.100Z"
    }
   },
   "outputs": [],
   "source": [
    "rho = 1  # distance resolution in pixels of the Hough grid\n",
    "theta = np.pi / 180  # angular resolution in radians of the Hough grid\n",
    "threshold = 60  # minimum number of votes (intersections in Hough grid cell)\n",
    "min_line_length = 60  # minimum number of pixels making up a line\n",
    "max_line_gap = 55  # maximum gap in pixels between connectable line segments\n",
    "line_image = np.copy(img) * 0  # creating a blank to draw lines on\n",
    "\n",
    "# Run Hough on edge detected image\n",
    "# Output \"lines\" is an array containing endpoints of detected line segments\n",
    "lines = cv2.HoughLinesP(processed_img, rho, theta, threshold, np.array([]),\n",
    "                    min_line_length, max_line_gap)\n",
    "\n",
    "for line in lines:\n",
    "    for x1,y1,x2,y2 in line:\n",
    "        cv2.line(line_image,(x1,y1),(x2,y2),(255,255,0),5)\n",
    "        \n",
    "lines_edges = cv2.addWeighted(img, 0.8, line_image, 1, 0)\n",
    "cv2.imshow('image',lines_edges)\n",
    "cv2.waitKey(0)\n",
    "cv2.destroyAllWindows()"
   ]
  },
  {
   "cell_type": "code",
   "execution_count": null,
   "id": "a93c7a88",
   "metadata": {},
   "outputs": [],
   "source": []
  }
 ],
 "metadata": {
  "kernelspec": {
   "display_name": "Python 3 (ipykernel)",
   "language": "python",
   "name": "python3"
  },
  "language_info": {
   "codemirror_mode": {
    "name": "ipython",
    "version": 3
   },
   "file_extension": ".py",
   "mimetype": "text/x-python",
   "name": "python",
   "nbconvert_exporter": "python",
   "pygments_lexer": "ipython3",
   "version": "3.10.1"
  },
  "toc": {
   "base_numbering": 1,
   "nav_menu": {},
   "number_sections": true,
   "sideBar": true,
   "skip_h1_title": false,
   "title_cell": "Table of Contents",
   "title_sidebar": "Contents",
   "toc_cell": false,
   "toc_position": {},
   "toc_section_display": true,
   "toc_window_display": false
  }
 },
 "nbformat": 4,
 "nbformat_minor": 5
}
